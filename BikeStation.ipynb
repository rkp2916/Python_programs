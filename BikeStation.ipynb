{
 "cells": [
  {
   "cell_type": "code",
   "execution_count": 12,
   "metadata": {},
   "outputs": [],
   "source": [
    "#This is a program to demonstrate the distance between the given location and the bike stations near that location."
   ]
  },
  {
   "cell_type": "code",
   "execution_count": 13,
   "metadata": {},
   "outputs": [],
   "source": [
    "import json\n",
    "import geopy\n",
    "from geopy.geocoders import Nominatim\n",
    "from geopy.distance import vincenty\n",
    "from pprint import pprint\n",
    "import operator"
   ]
  },
  {
   "cell_type": "code",
   "execution_count": 14,
   "metadata": {},
   "outputs": [],
   "source": [
    "lis = []\n",
    "with open ('bikeStation.json') as j_data:\n",
    "    bikeStation = json.load(j_data)\n",
    "for i in bikeStation[\"features\"]:\n",
    "                lis.append((i[\"properties\"][\"name\"]))\n",
    "                lis.append((i[\"properties\"][\"addressZipCode\"]))\n",
    "                lis.append((i[\"geometry\"][\"coordinates\"][0],i[\"geometry\"][\"coordinates\"][1]))\n",
    "#print lis"
   ]
  },
  {
   "cell_type": "code",
   "execution_count": 15,
   "metadata": {},
   "outputs": [
    {
     "name": "stdout",
     "output_type": "stream",
     "text": [
      "enter the zipcode:19106\n",
      "Philadelphia, Pennsylvania, 19106, United States of America\n"
     ]
    }
   ],
   "source": [
    "zipcode = input(\"enter the zipcode:\")                \n",
    "geolocator = Nominatim()\n",
    "location = geolocator.geocode(zipcode)\n",
    "print(location)\n",
    "lis1= {}\n",
    "for i in bikeStation[\"features\"]:\n",
    "        if zipcode == i[\"properties\"][\"addressZipCode\"]:\n",
    "                distance = vincenty((location.latitude,location.longitude),(i[\"geometry\"][\"coordinates\"][1],i[\"geometry\"][\"coordinates\"][0]))\n",
    "                lis1[str(i[\"properties\"][\"name\"])] = str(distance)\n",
    "sorted_lis = sorted(lis1.items(), key = operator.itemgetter(1))"
   ]
  },
  {
   "cell_type": "code",
   "execution_count": 16,
   "metadata": {},
   "outputs": [
    {
     "name": "stdout",
     "output_type": "stream",
     "text": [
      "('2nd & Market', '0.16673212667964468 km')\n",
      "('Independence Mall, NPS', '0.24406325686622296 km')\n",
      "('Welcome Park, NPS', '0.4462986540247614 km')\n",
      "('4th & Walnut, NPS', '0.45041876883781057 km')\n",
      "('6th & Race', '0.4543672298075987 km')\n",
      "('Race Street Pier', '0.6054070256671574 km')\n",
      "('Foglietta Plaza', '0.7272557174273258 km')\n"
     ]
    }
   ],
   "source": [
    "for i in sorted_lis:\n",
    "        print(i)"
   ]
  },
  {
   "cell_type": "code",
   "execution_count": null,
   "metadata": {},
   "outputs": [],
   "source": []
  }
 ],
 "metadata": {
  "kernelspec": {
   "display_name": "Python 3",
   "language": "python",
   "name": "python3"
  },
  "language_info": {
   "codemirror_mode": {
    "name": "ipython",
    "version": 3
   },
   "file_extension": ".py",
   "mimetype": "text/x-python",
   "name": "python",
   "nbconvert_exporter": "python",
   "pygments_lexer": "ipython3",
   "version": "3.5.4"
  }
 },
 "nbformat": 4,
 "nbformat_minor": 2
}
